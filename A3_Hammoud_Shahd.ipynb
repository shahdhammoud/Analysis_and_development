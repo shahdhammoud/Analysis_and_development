{
 "cells": [
  {
   "cell_type": "code",
   "id": "initial_id",
   "metadata": {
    "collapsed": true,
    "ExecuteTime": {
     "end_time": "2025-10-03T20:07:48.351995Z",
     "start_time": "2025-10-03T20:07:48.339184Z"
    }
   },
   "source": [
    "import numpy as np\n",
    "from scipy.optimize import minimize_scalar"
   ],
   "outputs": [],
   "execution_count": 8
  },
  {
   "metadata": {
    "ExecuteTime": {
     "end_time": "2025-10-03T20:07:48.594012Z",
     "start_time": "2025-10-03T20:07:48.588006Z"
    }
   },
   "cell_type": "code",
   "source": [
    "def linear_model(x, a, b):\n",
    "    return a * x + b\n",
    "def rational_model(x, a, b):\n",
    "    return a / (1 + b * (x+1e-9))"
   ],
   "id": "72ca06e0ebc06084",
   "outputs": [],
   "execution_count": 9
  },
  {
   "metadata": {
    "ExecuteTime": {
     "end_time": "2025-10-03T20:26:33.326114Z",
     "start_time": "2025-10-03T20:26:33.319457Z"
    }
   },
   "cell_type": "code",
   "source": [
    "def loss(f,x, y,a, b):\n",
    "    return np.sum((f(x, a, b) - y) ** 2)"
   ],
   "id": "6da979c39a7a6fd",
   "outputs": [],
   "execution_count": 48
  },
  {
   "metadata": {
    "ExecuteTime": {
     "end_time": "2025-10-03T22:40:01.330308Z",
     "start_time": "2025-10-03T22:40:01.308108Z"
    }
   },
   "cell_type": "code",
   "source": [
    "def my_steep_des(model, x, y, init_a, init_b, eps2=1e-3):\n",
    "    def check(A1, A2, eps2):\n",
    "        return np.linalg.norm(A1 - A2) < eps2\n",
    "\n",
    "    eps = 1e-6\n",
    "    a1, b1 = init_a, init_b\n",
    "\n",
    "    # Initial gradient\n",
    "    d_f_a = (loss(model, x, y, a1 + eps, b1) - loss(model, x, y, a1 - eps, b1)) / (2 * eps)\n",
    "    d_f_b = (loss(model, x, y, a1, b1 + eps) - loss(model, x, y, a1, b1 - eps)) / (2 * eps)\n",
    "\n",
    "    # Line search for first step\n",
    "    res = minimize_scalar(lambda alpha: loss(model, x, y, a1 - alpha * d_f_a, b1 - alpha * d_f_b),\n",
    "                          bounds=(0, 1), method='bounded')\n",
    "    first_beta = res.x\n",
    "    a2 = a1 - first_beta * d_f_a\n",
    "    b2 = b1 - first_beta * d_f_b\n",
    "\n",
    "    while True:\n",
    "        # Gradients at a1,b1 and a2,b2\n",
    "        d_f_a1 = (loss(model, x, y, a1 + eps, b1) - loss(model, x, y, a1 - eps, b1)) / (2 * eps)\n",
    "        d_f_b1 = (loss(model, x, y, a1, b1 + eps) - loss(model, x, y, a1, b1 - eps)) / (2 * eps)\n",
    "        d_f_a2 = (loss(model, x, y, a2 + eps, b2) - loss(model, x, y, a2 - eps, b2)) / (2 * eps)\n",
    "        d_f_b2 = (loss(model, x, y, a2, b2 + eps) - loss(model, x, y, a2, b2 - eps)) / (2 * eps)\n",
    "\n",
    "        df1 = np.array([d_f_a1, d_f_b1])\n",
    "        df2 = np.array([d_f_a2, d_f_b2])\n",
    "        AB1 = np.array([a1, b1])\n",
    "        AB2 = np.array([a2, b2])\n",
    "\n",
    "        S = AB2 - AB1\n",
    "        DF = df2 - df1\n",
    "        beta = abs(np.dot(S, DF)) / np.dot(DF, DF)\n",
    "        AB_next = AB2 - beta * df2\n",
    "\n",
    "\n",
    "        if check(AB2, AB_next, eps2):\n",
    "            break\n",
    "\n",
    "        a1, b1 = a2, b2\n",
    "        a2, b2 = AB_next[0], AB_next[1]\n",
    "\n",
    "\n",
    "\n",
    "    return a2, b2,loss(model, x, y, a2 , b2)\n"
   ],
   "id": "48e3ca0053fe878f",
   "outputs": [],
   "execution_count": 56
  },
  {
   "metadata": {
    "ExecuteTime": {
     "end_time": "2025-10-03T22:58:16.250664Z",
     "start_time": "2025-10-03T22:58:16.229042Z"
    }
   },
   "cell_type": "code",
   "source": [
    "def gra_des(model,x,y,init_a,init_b,eps2=1e-3):\n",
    "    def check(A1, A2, eps2):\n",
    "        return np.linalg.norm(A1 - A2) < eps2\n",
    "\n",
    "    eps = 1e-6\n",
    "    a0, b0 = init_a, init_b\n",
    "\n",
    "    # Initial gradient\n",
    "    dfa0 = (loss(model, x, y, a0 + eps, b0) - loss(model, x, y, a0 - eps, b0)) / (2 * eps)\n",
    "    dfb0 = (loss(model, x, y, a0, b0 + eps) - loss(model, x, y, a0, b0 - eps)) / (2 * eps)\n",
    "\n",
    "\n",
    "    res = minimize_scalar(lambda alpha: loss(model, x, y, a0 - alpha * dfa0, b0 - alpha * dfb0),\n",
    "                          bounds=(0, 1), method='bounded')\n",
    "    beta0 = res.x\n",
    "    a1 = a0 - beta0 * dfa0\n",
    "    b1 = b0 - beta0 * dfa0\n",
    "\n",
    "    while True:\n",
    "\n",
    "        dfa_new = -(loss(model, x, y, a1 + eps, b1) - loss(model, x, y, a1 - eps, b1)) / (2 * eps)\n",
    "        dfb_new = -(loss(model, x, y, a1, b1 + eps) - loss(model, x, y, a1, b1 - eps)) / (2 * eps)\n",
    "        DF_new= np.array([dfa_new, dfb_new])\n",
    "        DF_old = np.array([-dfa0, -dfb0])\n",
    "        s0=DF_old\n",
    "        beta_FR = (np.dot(DF_new, DF_new))/(np.dot(DF_old, DF_old))\n",
    "        beta_PR= (np.dot(DF_new, DF_new-DF_old))/(np.dot(DF_old, DF_old))\n",
    "        beta_FR_new=DF_new+beta_FR*s0\n",
    "        beta_PR_new=DF_new+beta_PR*s0\n",
    "        s_new_FR= DF_new+ beta_FR*s0\n",
    "        res = minimize_scalar(lambda alpha: loss(model, x, y, a1 + alpha *DF_new, b1 + alpha * DF_new),\n",
    "                          bounds=(0, 1), method='bounded')\n",
    "\n",
    "        a2, b2 = a1+res.x*s_new_FR , b1+res.x*s_new_FR\n",
    "\n",
    "\n",
    "        df1 = np.array([d_f_a1, d_f_b1])\n",
    "        df2 = np.array([d_f_a2, d_f_b2])\n",
    "\n",
    "        S0 =-df1\n",
    "\n",
    "\n",
    "        S1=df2+beta_FR*S0\n",
    "\n",
    "        res = minimize_scalar(lambda alpha: loss(model, x, y, a2 +alpha*S1[0], b2 - alpha * S1[1]),\n",
    "                          bounds=(0, 1), method='bounded')\n",
    "\n",
    "        AB2 = np.array([a2, b2])\n",
    "        AB_next = AB2 + res.x * S1\n",
    "\n",
    "        if check(AB2, AB_next, eps2):\n",
    "            break\n",
    "\n",
    "        a1, b1 = a2, b2\n",
    "        a2, b2 = AB_next[0], AB_next[1]\n",
    "\n",
    "\n",
    "    return a2, b2,loss(model, x, y, a2 , b2)\n",
    "\n"
   ],
   "id": "b0ab198a977ba2d2",
   "outputs": [],
   "execution_count": 64
  },
  {
   "metadata": {
    "ExecuteTime": {
     "end_time": "2025-10-03T22:58:17.092450Z",
     "start_time": "2025-10-03T22:58:17.083302Z"
    }
   },
   "cell_type": "code",
   "source": [
    "np.random.seed(23)\n",
    "alpha = np.random.rand()\n",
    "beta = np.random.rand()\n",
    "\n",
    "k = np.arange(101)\n",
    "x = k / 100\n",
    "delta = np.random.normal(0, 1, size=len(x))\n",
    "y = alpha * x + beta + delta*0\n",
    "\n",
    "print (alpha)\n",
    "print (beta)\n"
   ],
   "id": "176f4d606fddd0f",
   "outputs": [
    {
     "name": "stdout",
     "output_type": "stream",
     "text": [
      "0.5172978838465893\n",
      "0.9469626038148141\n"
     ]
    }
   ],
   "execution_count": 65
  },
  {
   "metadata": {
    "ExecuteTime": {
     "end_time": "2025-10-03T22:58:17.996751Z",
     "start_time": "2025-10-03T22:58:17.991586Z"
    }
   },
   "cell_type": "code",
   "source": [
    "a,b,m=my_steep_des(linear_model,x,y,1, 1)\n",
    "print (a,b,m)"
   ],
   "id": "f5fbdf8e79b60f61",
   "outputs": [
    {
     "name": "stdout",
     "output_type": "stream",
     "text": [
      "0.5173202009773403 0.9470041489652785 2.84821644376747e-07\n"
     ]
    }
   ],
   "execution_count": 66
  },
  {
   "metadata": {
    "ExecuteTime": {
     "end_time": "2025-10-03T22:58:18.529043Z",
     "start_time": "2025-10-03T22:58:18.519816Z"
    }
   },
   "cell_type": "code",
   "source": [
    "a,b,m=gra_des(linear_model,x,y,1, 1)\n",
    "print (a,b,m)"
   ],
   "id": "9afff4cb4d34dd31",
   "outputs": [
    {
     "name": "stdout",
     "output_type": "stream",
     "text": [
      "1.231634365959868e+20 2.277793801542807e+20 8.58694223274801e+42\n"
     ]
    }
   ],
   "execution_count": 67
  },
  {
   "metadata": {},
   "cell_type": "code",
   "outputs": [],
   "execution_count": null,
   "source": "",
   "id": "71209aa0c634f081"
  }
 ],
 "metadata": {
  "kernelspec": {
   "display_name": "Python 3",
   "language": "python",
   "name": "python3"
  },
  "language_info": {
   "codemirror_mode": {
    "name": "ipython",
    "version": 2
   },
   "file_extension": ".py",
   "mimetype": "text/x-python",
   "name": "python",
   "nbconvert_exporter": "python",
   "pygments_lexer": "ipython2",
   "version": "2.7.6"
  }
 },
 "nbformat": 4,
 "nbformat_minor": 5
}
